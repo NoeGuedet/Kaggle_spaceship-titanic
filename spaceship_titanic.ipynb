{
 "cells": [
  {
   "cell_type": "markdown",
   "id": "128e8106-856e-4c83-a84b-2419630f95be",
   "metadata": {},
   "source": [
    "# Import"
   ]
  },
  {
   "cell_type": "code",
   "execution_count": 1,
   "id": "e69375c6-01c4-4e40-9467-c7df93707412",
   "metadata": {},
   "outputs": [],
   "source": [
    "import os\n",
    "\n",
    "import pandas as pd\n",
    "import numpy as np\n",
    "import matplotlib.pyplot as plt\n",
    "from tqdm.notebook import tqdm\n",
    "\n",
    "from sklearn.model_selection import train_test_split, KFold\n",
    "from sklearn.impute import SimpleImputer\n",
    "from sklearn.preprocessing import OneHotEncoder, OrdinalEncoder, normalize\n",
    "from sklearn.metrics import accuracy_score\n",
    "\n",
    "from catboost import CatBoostClassifier, Pool, metrics, cv\n",
    "\n",
    "import torch\n",
    "from torch.utils.data import DataLoader, TensorDataset, SubsetRandomSampler\n",
    "import torch.nn as nn\n",
    "from torch.optim import Adam"
   ]
  },
  {
   "cell_type": "markdown",
   "id": "ff5adf4d-6a2d-44e7-83dd-98458ca43a19",
   "metadata": {},
   "source": [
    "# Data preprocessing"
   ]
  },
  {
   "cell_type": "markdown",
   "id": "4191ad36-f004-4283-9518-3b5c7d2c732a",
   "metadata": {},
   "source": [
    "## Dataset loading"
   ]
  },
  {
   "cell_type": "code",
   "execution_count": 2,
   "id": "38cfe9df-c4a6-461f-9023-dcee17c92887",
   "metadata": {},
   "outputs": [
    {
     "name": "stdout",
     "output_type": "stream",
     "text": [
      "X shape : (8693, 13)\n"
     ]
    },
    {
     "data": {
      "text/html": [
       "<div>\n",
       "<style scoped>\n",
       "    .dataframe tbody tr th:only-of-type {\n",
       "        vertical-align: middle;\n",
       "    }\n",
       "\n",
       "    .dataframe tbody tr th {\n",
       "        vertical-align: top;\n",
       "    }\n",
       "\n",
       "    .dataframe thead th {\n",
       "        text-align: right;\n",
       "    }\n",
       "</style>\n",
       "<table border=\"1\" class=\"dataframe\">\n",
       "  <thead>\n",
       "    <tr style=\"text-align: right;\">\n",
       "      <th></th>\n",
       "      <th>PassengerId</th>\n",
       "      <th>HomePlanet</th>\n",
       "      <th>CryoSleep</th>\n",
       "      <th>Cabin</th>\n",
       "      <th>Destination</th>\n",
       "      <th>Age</th>\n",
       "      <th>VIP</th>\n",
       "      <th>RoomService</th>\n",
       "      <th>FoodCourt</th>\n",
       "      <th>ShoppingMall</th>\n",
       "      <th>Spa</th>\n",
       "      <th>VRDeck</th>\n",
       "      <th>Name</th>\n",
       "    </tr>\n",
       "  </thead>\n",
       "  <tbody>\n",
       "    <tr>\n",
       "      <th>0</th>\n",
       "      <td>0001_01</td>\n",
       "      <td>Europa</td>\n",
       "      <td>False</td>\n",
       "      <td>B/0/P</td>\n",
       "      <td>TRAPPIST-1e</td>\n",
       "      <td>39.0</td>\n",
       "      <td>False</td>\n",
       "      <td>0.0</td>\n",
       "      <td>0.0</td>\n",
       "      <td>0.0</td>\n",
       "      <td>0.0</td>\n",
       "      <td>0.0</td>\n",
       "      <td>Maham Ofracculy</td>\n",
       "    </tr>\n",
       "    <tr>\n",
       "      <th>1</th>\n",
       "      <td>0002_01</td>\n",
       "      <td>Earth</td>\n",
       "      <td>False</td>\n",
       "      <td>F/0/S</td>\n",
       "      <td>TRAPPIST-1e</td>\n",
       "      <td>24.0</td>\n",
       "      <td>False</td>\n",
       "      <td>109.0</td>\n",
       "      <td>9.0</td>\n",
       "      <td>25.0</td>\n",
       "      <td>549.0</td>\n",
       "      <td>44.0</td>\n",
       "      <td>Juanna Vines</td>\n",
       "    </tr>\n",
       "    <tr>\n",
       "      <th>2</th>\n",
       "      <td>0003_01</td>\n",
       "      <td>Europa</td>\n",
       "      <td>False</td>\n",
       "      <td>A/0/S</td>\n",
       "      <td>TRAPPIST-1e</td>\n",
       "      <td>58.0</td>\n",
       "      <td>True</td>\n",
       "      <td>43.0</td>\n",
       "      <td>3576.0</td>\n",
       "      <td>0.0</td>\n",
       "      <td>6715.0</td>\n",
       "      <td>49.0</td>\n",
       "      <td>Altark Susent</td>\n",
       "    </tr>\n",
       "    <tr>\n",
       "      <th>3</th>\n",
       "      <td>0003_02</td>\n",
       "      <td>Europa</td>\n",
       "      <td>False</td>\n",
       "      <td>A/0/S</td>\n",
       "      <td>TRAPPIST-1e</td>\n",
       "      <td>33.0</td>\n",
       "      <td>False</td>\n",
       "      <td>0.0</td>\n",
       "      <td>1283.0</td>\n",
       "      <td>371.0</td>\n",
       "      <td>3329.0</td>\n",
       "      <td>193.0</td>\n",
       "      <td>Solam Susent</td>\n",
       "    </tr>\n",
       "    <tr>\n",
       "      <th>4</th>\n",
       "      <td>0004_01</td>\n",
       "      <td>Earth</td>\n",
       "      <td>False</td>\n",
       "      <td>F/1/S</td>\n",
       "      <td>TRAPPIST-1e</td>\n",
       "      <td>16.0</td>\n",
       "      <td>False</td>\n",
       "      <td>303.0</td>\n",
       "      <td>70.0</td>\n",
       "      <td>151.0</td>\n",
       "      <td>565.0</td>\n",
       "      <td>2.0</td>\n",
       "      <td>Willy Santantines</td>\n",
       "    </tr>\n",
       "  </tbody>\n",
       "</table>\n",
       "</div>"
      ],
      "text/plain": [
       "  PassengerId HomePlanet CryoSleep  Cabin  Destination   Age    VIP  \\\n",
       "0     0001_01     Europa     False  B/0/P  TRAPPIST-1e  39.0  False   \n",
       "1     0002_01      Earth     False  F/0/S  TRAPPIST-1e  24.0  False   \n",
       "2     0003_01     Europa     False  A/0/S  TRAPPIST-1e  58.0   True   \n",
       "3     0003_02     Europa     False  A/0/S  TRAPPIST-1e  33.0  False   \n",
       "4     0004_01      Earth     False  F/1/S  TRAPPIST-1e  16.0  False   \n",
       "\n",
       "   RoomService  FoodCourt  ShoppingMall     Spa  VRDeck               Name  \n",
       "0          0.0        0.0           0.0     0.0     0.0    Maham Ofracculy  \n",
       "1        109.0        9.0          25.0   549.0    44.0       Juanna Vines  \n",
       "2         43.0     3576.0           0.0  6715.0    49.0      Altark Susent  \n",
       "3          0.0     1283.0         371.0  3329.0   193.0       Solam Susent  \n",
       "4        303.0       70.0         151.0   565.0     2.0  Willy Santantines  "
      ]
     },
     "execution_count": 2,
     "metadata": {},
     "output_type": "execute_result"
    }
   ],
   "source": [
    "df = pd.read_csv('train.csv')\n",
    "\n",
    "X = df.drop(columns=['Transported'])\n",
    "y = df['Transported'].astype(int)\n",
    "\n",
    "print(f'X shape : {X.shape}')\n",
    "X.head()"
   ]
  },
  {
   "cell_type": "code",
   "execution_count": 3,
   "id": "31dc6031-5e9e-47ab-a3ac-7f21a3e20e2f",
   "metadata": {},
   "outputs": [
    {
     "data": {
      "text/html": [
       "<div>\n",
       "<style scoped>\n",
       "    .dataframe tbody tr th:only-of-type {\n",
       "        vertical-align: middle;\n",
       "    }\n",
       "\n",
       "    .dataframe tbody tr th {\n",
       "        vertical-align: top;\n",
       "    }\n",
       "\n",
       "    .dataframe thead th {\n",
       "        text-align: right;\n",
       "    }\n",
       "</style>\n",
       "<table border=\"1\" class=\"dataframe\">\n",
       "  <thead>\n",
       "    <tr style=\"text-align: right;\">\n",
       "      <th></th>\n",
       "      <th>PassengerId</th>\n",
       "      <th>HomePlanet</th>\n",
       "      <th>CryoSleep</th>\n",
       "      <th>Cabin</th>\n",
       "      <th>Destination</th>\n",
       "      <th>Age</th>\n",
       "      <th>VIP</th>\n",
       "      <th>RoomService</th>\n",
       "      <th>FoodCourt</th>\n",
       "      <th>ShoppingMall</th>\n",
       "      <th>Spa</th>\n",
       "      <th>VRDeck</th>\n",
       "      <th>Name</th>\n",
       "    </tr>\n",
       "  </thead>\n",
       "  <tbody>\n",
       "    <tr>\n",
       "      <th>0</th>\n",
       "      <td>0013_01</td>\n",
       "      <td>Earth</td>\n",
       "      <td>True</td>\n",
       "      <td>G/3/S</td>\n",
       "      <td>TRAPPIST-1e</td>\n",
       "      <td>27.0</td>\n",
       "      <td>False</td>\n",
       "      <td>0.0</td>\n",
       "      <td>0.0</td>\n",
       "      <td>0.0</td>\n",
       "      <td>0.0</td>\n",
       "      <td>0.0</td>\n",
       "      <td>Nelly Carsoning</td>\n",
       "    </tr>\n",
       "    <tr>\n",
       "      <th>1</th>\n",
       "      <td>0018_01</td>\n",
       "      <td>Earth</td>\n",
       "      <td>False</td>\n",
       "      <td>F/4/S</td>\n",
       "      <td>TRAPPIST-1e</td>\n",
       "      <td>19.0</td>\n",
       "      <td>False</td>\n",
       "      <td>0.0</td>\n",
       "      <td>9.0</td>\n",
       "      <td>0.0</td>\n",
       "      <td>2823.0</td>\n",
       "      <td>0.0</td>\n",
       "      <td>Lerome Peckers</td>\n",
       "    </tr>\n",
       "    <tr>\n",
       "      <th>2</th>\n",
       "      <td>0019_01</td>\n",
       "      <td>Europa</td>\n",
       "      <td>True</td>\n",
       "      <td>C/0/S</td>\n",
       "      <td>55 Cancri e</td>\n",
       "      <td>31.0</td>\n",
       "      <td>False</td>\n",
       "      <td>0.0</td>\n",
       "      <td>0.0</td>\n",
       "      <td>0.0</td>\n",
       "      <td>0.0</td>\n",
       "      <td>0.0</td>\n",
       "      <td>Sabih Unhearfus</td>\n",
       "    </tr>\n",
       "    <tr>\n",
       "      <th>3</th>\n",
       "      <td>0021_01</td>\n",
       "      <td>Europa</td>\n",
       "      <td>False</td>\n",
       "      <td>C/1/S</td>\n",
       "      <td>TRAPPIST-1e</td>\n",
       "      <td>38.0</td>\n",
       "      <td>False</td>\n",
       "      <td>0.0</td>\n",
       "      <td>6652.0</td>\n",
       "      <td>0.0</td>\n",
       "      <td>181.0</td>\n",
       "      <td>585.0</td>\n",
       "      <td>Meratz Caltilter</td>\n",
       "    </tr>\n",
       "    <tr>\n",
       "      <th>4</th>\n",
       "      <td>0023_01</td>\n",
       "      <td>Earth</td>\n",
       "      <td>False</td>\n",
       "      <td>F/5/S</td>\n",
       "      <td>TRAPPIST-1e</td>\n",
       "      <td>20.0</td>\n",
       "      <td>False</td>\n",
       "      <td>10.0</td>\n",
       "      <td>0.0</td>\n",
       "      <td>635.0</td>\n",
       "      <td>0.0</td>\n",
       "      <td>0.0</td>\n",
       "      <td>Brence Harperez</td>\n",
       "    </tr>\n",
       "  </tbody>\n",
       "</table>\n",
       "</div>"
      ],
      "text/plain": [
       "  PassengerId HomePlanet CryoSleep  Cabin  Destination   Age    VIP  \\\n",
       "0     0013_01      Earth      True  G/3/S  TRAPPIST-1e  27.0  False   \n",
       "1     0018_01      Earth     False  F/4/S  TRAPPIST-1e  19.0  False   \n",
       "2     0019_01     Europa      True  C/0/S  55 Cancri e  31.0  False   \n",
       "3     0021_01     Europa     False  C/1/S  TRAPPIST-1e  38.0  False   \n",
       "4     0023_01      Earth     False  F/5/S  TRAPPIST-1e  20.0  False   \n",
       "\n",
       "   RoomService  FoodCourt  ShoppingMall     Spa  VRDeck              Name  \n",
       "0          0.0        0.0           0.0     0.0     0.0   Nelly Carsoning  \n",
       "1          0.0        9.0           0.0  2823.0     0.0    Lerome Peckers  \n",
       "2          0.0        0.0           0.0     0.0     0.0   Sabih Unhearfus  \n",
       "3          0.0     6652.0           0.0   181.0   585.0  Meratz Caltilter  \n",
       "4         10.0        0.0         635.0     0.0     0.0   Brence Harperez  "
      ]
     },
     "execution_count": 3,
     "metadata": {},
     "output_type": "execute_result"
    }
   ],
   "source": [
    "X_test = pd.read_csv('test.csv')\n",
    "\n",
    "X_test.head()"
   ]
  },
  {
   "cell_type": "markdown",
   "id": "8bfbf068-e233-41b9-b2e5-36b72643ad29",
   "metadata": {},
   "source": [
    "## Feature enginering"
   ]
  },
  {
   "cell_type": "markdown",
   "id": "ab90bc3a-76f6-4d82-aa7b-43e497763ac8",
   "metadata": {},
   "source": [
    "Based on the dataset informations, columns can be splitted to isolate more features per row."
   ]
  },
  {
   "cell_type": "code",
   "execution_count": 4,
   "id": "2929b28a-cb57-4a5d-ac9d-98751bdbdfe4",
   "metadata": {},
   "outputs": [],
   "source": [
    "def get_groupId(id):\n",
    "    return id.split('_')[0]\n",
    "\n",
    "def get_groupNumber(id):\n",
    "    return id.split('_')[1]\n",
    "\n",
    "def split_name(name):\n",
    "    return name.split()[1]\n",
    "\n",
    "def get_cabinDeck(cabin):\n",
    "    return cabin.split('/')[0]\n",
    "    \n",
    "def get_cabinNum(cabin):\n",
    "    return cabin.split('/')[1]\n",
    "    \n",
    "def get_cabinSide(cabin):\n",
    "    return cabin.split('/')[2]"
   ]
  },
  {
   "cell_type": "code",
   "execution_count": 5,
   "id": "25d29c19-559c-471c-94b9-d6a54a416b66",
   "metadata": {},
   "outputs": [],
   "source": [
    "# get group id\n",
    "X['GroupId'] = list(X['PassengerId'].apply(get_groupId))\n",
    "X_test['GroupId'] = list(X_test['PassengerId'].apply(get_groupId))\n",
    "\n",
    "# get group number\n",
    "X['GroupNumber'] = list(X['PassengerId'].apply(get_groupNumber))\n",
    "X_test['GroupNumber'] = list(X_test['PassengerId'].apply(get_groupNumber))\n",
    "\n",
    "# get family name\n",
    "X['FamilyName'] = X.loc[~X['Name'].isna(), 'Name'].apply(split_name)\n",
    "X_test['FamilyName'] = X_test.loc[~X_test['Name'].isna(), 'Name'].apply(split_name)\n",
    "\n",
    "# get cabin deck\n",
    "X['CabinDeck'] = X.loc[~X['Cabin'].isna(), 'Cabin'].apply(get_cabinDeck)\n",
    "X_test['CabinDeck'] = X_test.loc[~X_test['Cabin'].isna(), 'Cabin'].apply(get_cabinDeck)\n",
    "\n",
    "# get cabin num\n",
    "X['CabinNum'] = X.loc[~X['Cabin'].isna(), 'Cabin'].apply(get_cabinNum)\n",
    "X_test['CabinNum'] = X_test.loc[~X_test['Cabin'].isna(), 'Cabin'].apply(get_cabinNum)\n",
    "\n",
    "# get cabin side\n",
    "X['CabinSide'] = X.loc[~X['Cabin'].isna(), 'Cabin'].apply(get_cabinSide)\n",
    "X_test['CabinSide'] = X_test.loc[~X_test['Cabin'].isna(), 'Cabin'].apply(get_cabinSide)"
   ]
  },
  {
   "cell_type": "markdown",
   "id": "3cc62bb7-0f58-41a0-832b-e52278eba66f",
   "metadata": {},
   "source": [
    "## Analysis"
   ]
  },
  {
   "cell_type": "code",
   "execution_count": 6,
   "id": "45666397-569a-4440-ac32-649c4c94df97",
   "metadata": {},
   "outputs": [
    {
     "data": {
      "text/html": [
       "<div>\n",
       "<style scoped>\n",
       "    .dataframe tbody tr th:only-of-type {\n",
       "        vertical-align: middle;\n",
       "    }\n",
       "\n",
       "    .dataframe tbody tr th {\n",
       "        vertical-align: top;\n",
       "    }\n",
       "\n",
       "    .dataframe thead th {\n",
       "        text-align: right;\n",
       "    }\n",
       "</style>\n",
       "<table border=\"1\" class=\"dataframe\">\n",
       "  <thead>\n",
       "    <tr style=\"text-align: right;\">\n",
       "      <th></th>\n",
       "      <th>PassengerId</th>\n",
       "      <th>HomePlanet</th>\n",
       "      <th>CryoSleep</th>\n",
       "      <th>Cabin</th>\n",
       "      <th>Destination</th>\n",
       "      <th>Age</th>\n",
       "      <th>VIP</th>\n",
       "      <th>RoomService</th>\n",
       "      <th>FoodCourt</th>\n",
       "      <th>ShoppingMall</th>\n",
       "      <th>Spa</th>\n",
       "      <th>VRDeck</th>\n",
       "      <th>Name</th>\n",
       "      <th>GroupId</th>\n",
       "      <th>GroupNumber</th>\n",
       "      <th>FamilyName</th>\n",
       "      <th>CabinDeck</th>\n",
       "      <th>CabinNum</th>\n",
       "      <th>CabinSide</th>\n",
       "    </tr>\n",
       "  </thead>\n",
       "  <tbody>\n",
       "    <tr>\n",
       "      <th>dtype</th>\n",
       "      <td>object</td>\n",
       "      <td>object</td>\n",
       "      <td>object</td>\n",
       "      <td>object</td>\n",
       "      <td>object</td>\n",
       "      <td>float64</td>\n",
       "      <td>object</td>\n",
       "      <td>float64</td>\n",
       "      <td>float64</td>\n",
       "      <td>float64</td>\n",
       "      <td>float64</td>\n",
       "      <td>float64</td>\n",
       "      <td>object</td>\n",
       "      <td>object</td>\n",
       "      <td>object</td>\n",
       "      <td>object</td>\n",
       "      <td>object</td>\n",
       "      <td>object</td>\n",
       "      <td>object</td>\n",
       "    </tr>\n",
       "    <tr>\n",
       "      <th>nunique</th>\n",
       "      <td>8693</td>\n",
       "      <td>3</td>\n",
       "      <td>2</td>\n",
       "      <td>6560</td>\n",
       "      <td>3</td>\n",
       "      <td>80</td>\n",
       "      <td>2</td>\n",
       "      <td>1273</td>\n",
       "      <td>1507</td>\n",
       "      <td>1115</td>\n",
       "      <td>1327</td>\n",
       "      <td>1306</td>\n",
       "      <td>8473</td>\n",
       "      <td>6217</td>\n",
       "      <td>8</td>\n",
       "      <td>2217</td>\n",
       "      <td>8</td>\n",
       "      <td>1817</td>\n",
       "      <td>2</td>\n",
       "    </tr>\n",
       "    <tr>\n",
       "      <th>frac%_nunique</th>\n",
       "      <td>100.0</td>\n",
       "      <td>0.034511</td>\n",
       "      <td>0.023007</td>\n",
       "      <td>75.463016</td>\n",
       "      <td>0.034511</td>\n",
       "      <td>0.920281</td>\n",
       "      <td>0.023007</td>\n",
       "      <td>14.643966</td>\n",
       "      <td>17.335787</td>\n",
       "      <td>12.826412</td>\n",
       "      <td>15.265156</td>\n",
       "      <td>15.023582</td>\n",
       "      <td>97.469228</td>\n",
       "      <td>71.517313</td>\n",
       "      <td>0.092028</td>\n",
       "      <td>25.503278</td>\n",
       "      <td>0.092028</td>\n",
       "      <td>20.901875</td>\n",
       "      <td>0.023007</td>\n",
       "    </tr>\n",
       "    <tr>\n",
       "      <th>sum_na</th>\n",
       "      <td>0</td>\n",
       "      <td>201</td>\n",
       "      <td>217</td>\n",
       "      <td>199</td>\n",
       "      <td>182</td>\n",
       "      <td>179</td>\n",
       "      <td>203</td>\n",
       "      <td>181</td>\n",
       "      <td>183</td>\n",
       "      <td>208</td>\n",
       "      <td>183</td>\n",
       "      <td>188</td>\n",
       "      <td>200</td>\n",
       "      <td>0</td>\n",
       "      <td>0</td>\n",
       "      <td>200</td>\n",
       "      <td>199</td>\n",
       "      <td>199</td>\n",
       "      <td>199</td>\n",
       "    </tr>\n",
       "    <tr>\n",
       "      <th>%_na</th>\n",
       "      <td>0.0</td>\n",
       "      <td>2.312205</td>\n",
       "      <td>2.496261</td>\n",
       "      <td>2.289198</td>\n",
       "      <td>2.093639</td>\n",
       "      <td>2.059128</td>\n",
       "      <td>2.335212</td>\n",
       "      <td>2.082135</td>\n",
       "      <td>2.105142</td>\n",
       "      <td>2.39273</td>\n",
       "      <td>2.105142</td>\n",
       "      <td>2.16266</td>\n",
       "      <td>2.300702</td>\n",
       "      <td>0.0</td>\n",
       "      <td>0.0</td>\n",
       "      <td>2.300702</td>\n",
       "      <td>2.289198</td>\n",
       "      <td>2.289198</td>\n",
       "      <td>2.289198</td>\n",
       "    </tr>\n",
       "  </tbody>\n",
       "</table>\n",
       "</div>"
      ],
      "text/plain": [
       "              PassengerId HomePlanet CryoSleep      Cabin Destination  \\\n",
       "dtype              object     object    object     object      object   \n",
       "nunique              8693          3         2       6560           3   \n",
       "frac%_nunique       100.0   0.034511  0.023007  75.463016    0.034511   \n",
       "sum_na                  0        201       217        199         182   \n",
       "%_na                  0.0   2.312205  2.496261   2.289198    2.093639   \n",
       "\n",
       "                    Age       VIP RoomService  FoodCourt ShoppingMall  \\\n",
       "dtype           float64    object     float64    float64      float64   \n",
       "nunique              80         2        1273       1507         1115   \n",
       "frac%_nunique  0.920281  0.023007   14.643966  17.335787    12.826412   \n",
       "sum_na              179       203         181        183          208   \n",
       "%_na           2.059128  2.335212    2.082135   2.105142      2.39273   \n",
       "\n",
       "                     Spa     VRDeck       Name    GroupId GroupNumber  \\\n",
       "dtype            float64    float64     object     object      object   \n",
       "nunique             1327       1306       8473       6217           8   \n",
       "frac%_nunique  15.265156  15.023582  97.469228  71.517313    0.092028   \n",
       "sum_na               183        188        200          0           0   \n",
       "%_na            2.105142    2.16266   2.300702        0.0         0.0   \n",
       "\n",
       "              FamilyName CabinDeck   CabinNum CabinSide  \n",
       "dtype             object    object     object    object  \n",
       "nunique             2217         8       1817         2  \n",
       "frac%_nunique  25.503278  0.092028  20.901875  0.023007  \n",
       "sum_na               200       199        199       199  \n",
       "%_na            2.300702  2.289198   2.289198  2.289198  "
      ]
     },
     "execution_count": 6,
     "metadata": {},
     "output_type": "execute_result"
    }
   ],
   "source": [
    "X_train_info = pd.DataFrame(\n",
    "    [X.dtypes, X.nunique(), X.nunique() / X.shape[0] * 100, X.isna().sum(), X.isna().sum() / X.shape[0] * 100], \n",
    "    index=['dtype', 'nunique', 'frac%_nunique', 'sum_na', '%_na'], \n",
    "    columns=X.columns\n",
    ")\n",
    "\n",
    "X_train_info"
   ]
  },
  {
   "cell_type": "markdown",
   "id": "706688c9-3cd9-447a-8afe-02cf2f25dcb3",
   "metadata": {},
   "source": [
    "2 columns can be drop as they do not contains enough informations : PassengerId (every passenger Id is unique) and Cabin (75% of the Cabin column values are unique)."
   ]
  },
  {
   "cell_type": "code",
   "execution_count": 7,
   "id": "55cadee2-9377-4b56-a31f-5c92df982c97",
   "metadata": {},
   "outputs": [],
   "source": [
    "drop_cols=['PassengerId', 'Cabin']\n",
    "\n",
    "X.drop(drop_cols, axis=1, inplace=True)\n",
    "X_test.drop(drop_cols, axis=1, inplace=True)"
   ]
  },
  {
   "cell_type": "markdown",
   "id": "cfacb859-1468-46c6-8485-b4e57860e4dd",
   "metadata": {},
   "source": [
    "## [Extension to imputation](https://www.kaggle.com/code/pankeshpatel/handing-missing-values-drop-impute-extension#Approach-3-An-Extension-To-Imputation)"
   ]
  },
  {
   "cell_type": "markdown",
   "id": "efd1ea63-31fe-45d8-a036-6a3bad478474",
   "metadata": {},
   "source": [
    "Before doing an imputation the dataset, new features indicating where every value is missing can be added to the dataset."
   ]
  },
  {
   "cell_type": "code",
   "execution_count": 8,
   "id": "d49fda11-fa5c-47b0-9f66-a12c2c907126",
   "metadata": {
    "tags": []
   },
   "outputs": [],
   "source": [
    "missing_cols = [col for col in X_test.columns \n",
    "               if X_test[col].isna().any()]\n",
    "\n",
    "for col in missing_cols:\n",
    "    X[col + \"_was_missing\"] = X[col].isna().astype(float)\n",
    "    X_test[col + \"_was_missing\"] = X_test[col].isna().astype(float)"
   ]
  },
  {
   "cell_type": "markdown",
   "id": "61770969-99d2-48ee-8405-0ba36fb2940f",
   "metadata": {},
   "source": [
    "## [Imputation](https://www.kaggle.com/code/pankeshpatel/handing-missing-values-drop-impute-extension#Approach-2-A-Better-Option:-Imputation)"
   ]
  },
  {
   "cell_type": "code",
   "execution_count": 9,
   "id": "10539330-751a-470b-af35-036c18cd8ab8",
   "metadata": {},
   "outputs": [],
   "source": [
    "cat_cols = X.select_dtypes(include='object').columns\n",
    "num_cols = X.select_dtypes(exclude='object').columns\n",
    "\n",
    "cat_imputer = SimpleImputer(strategy='most_frequent')\n",
    "num_imputer = SimpleImputer(strategy='mean')\n",
    "\n",
    "cat_X_input = pd.DataFrame(cat_imputer.fit_transform(X[cat_cols]), columns=cat_cols)\n",
    "cat_X_test_input = pd.DataFrame(cat_imputer.transform(X_test[cat_cols]), columns=cat_cols)\n",
    "\n",
    "num_X_input = pd.DataFrame(cat_imputer.fit_transform(X[num_cols]), columns=num_cols)\n",
    "num_X_test_input = pd.DataFrame(cat_imputer.transform(X_test[num_cols]), columns=num_cols)"
   ]
  },
  {
   "cell_type": "markdown",
   "id": "0261e956-3a0d-48ea-9b18-54e29a899b4c",
   "metadata": {},
   "source": [
    "## Categorical encoding"
   ]
  },
  {
   "cell_type": "markdown",
   "id": "b67c04bf-1643-4529-8054-4b50c301f0bd",
   "metadata": {},
   "source": [
    "Once every missing values of the original dataset have been filled, we can encode categorical features :\n",
    "- **One hot encoding** for features with less than 10 unique values\n",
    "- **Ordinal encoding** for the rest"
   ]
  },
  {
   "cell_type": "code",
   "execution_count": 10,
   "id": "06233ea1-6ed1-4a37-aa70-906e80b2cdb5",
   "metadata": {
    "tags": []
   },
   "outputs": [],
   "source": [
    "OH_cols = [col for col in cat_X_input.columns\n",
    "          if X_train_info.at['nunique', col] <= 10]\n",
    "\n",
    "OR_cols = list(set(cat_X_input.columns) - set(OH_cols))"
   ]
  },
  {
   "cell_type": "code",
   "execution_count": 11,
   "id": "2279e56a-d137-43fb-916a-cea8db5006e1",
   "metadata": {
    "tags": []
   },
   "outputs": [],
   "source": [
    "OH_encoder = OneHotEncoder(handle_unknown='ignore', sparse_output=False)\n",
    "ordinal_encoder = OrdinalEncoder(handle_unknown='use_encoded_value', unknown_value=-1)\n",
    "\n",
    "cat_X_input_OH = pd.DataFrame(OH_encoder.fit_transform(cat_X_input[OH_cols]), index=cat_X_input.index)\n",
    "cat_X_test_input_OH = pd.DataFrame(OH_encoder.transform(cat_X_test_input[OH_cols]), index=cat_X_test_input.index)\n",
    "\n",
    "cat_X_input_OR = pd.DataFrame(ordinal_encoder.fit_transform(cat_X_input[OR_cols]), columns=OR_cols, index=cat_X_input.index)\n",
    "cat_X_test_input_OR = pd.DataFrame(ordinal_encoder.transform(cat_X_test_input[OR_cols]), columns=OR_cols, index=cat_X_test_input.index)"
   ]
  },
  {
   "cell_type": "code",
   "execution_count": 12,
   "id": "0b37461a-c0bc-445f-a38c-90f518d8564c",
   "metadata": {
    "tags": []
   },
   "outputs": [],
   "source": [
    "X = pd.concat([cat_X_input_OH, cat_X_input_OR, num_X_input], axis=1)\n",
    "X_test = pd.concat([cat_X_test_input_OH, cat_X_test_input_OR, num_X_test_input], axis=1)"
   ]
  },
  {
   "cell_type": "code",
   "execution_count": 13,
   "id": "37114ea7-a03a-4048-a544-b0f15c198d19",
   "metadata": {},
   "outputs": [
    {
     "name": "stdout",
     "output_type": "stream",
     "text": [
      "New X shape : (8693, 53)\n"
     ]
    },
    {
     "data": {
      "text/html": [
       "<div>\n",
       "<style scoped>\n",
       "    .dataframe tbody tr th:only-of-type {\n",
       "        vertical-align: middle;\n",
       "    }\n",
       "\n",
       "    .dataframe tbody tr th {\n",
       "        vertical-align: top;\n",
       "    }\n",
       "\n",
       "    .dataframe thead th {\n",
       "        text-align: right;\n",
       "    }\n",
       "</style>\n",
       "<table border=\"1\" class=\"dataframe\">\n",
       "  <thead>\n",
       "    <tr style=\"text-align: right;\">\n",
       "      <th></th>\n",
       "      <th>0</th>\n",
       "      <th>1</th>\n",
       "      <th>2</th>\n",
       "      <th>3</th>\n",
       "      <th>4</th>\n",
       "      <th>5</th>\n",
       "      <th>6</th>\n",
       "      <th>7</th>\n",
       "      <th>8</th>\n",
       "      <th>9</th>\n",
       "      <th>...</th>\n",
       "      <th>RoomService_was_missing</th>\n",
       "      <th>FoodCourt_was_missing</th>\n",
       "      <th>ShoppingMall_was_missing</th>\n",
       "      <th>Spa_was_missing</th>\n",
       "      <th>VRDeck_was_missing</th>\n",
       "      <th>Name_was_missing</th>\n",
       "      <th>FamilyName_was_missing</th>\n",
       "      <th>CabinDeck_was_missing</th>\n",
       "      <th>CabinNum_was_missing</th>\n",
       "      <th>CabinSide_was_missing</th>\n",
       "    </tr>\n",
       "  </thead>\n",
       "  <tbody>\n",
       "    <tr>\n",
       "      <th>0</th>\n",
       "      <td>0.0</td>\n",
       "      <td>1.0</td>\n",
       "      <td>0.0</td>\n",
       "      <td>1.0</td>\n",
       "      <td>0.0</td>\n",
       "      <td>0.0</td>\n",
       "      <td>0.0</td>\n",
       "      <td>1.0</td>\n",
       "      <td>1.0</td>\n",
       "      <td>0.0</td>\n",
       "      <td>...</td>\n",
       "      <td>0.0</td>\n",
       "      <td>0.0</td>\n",
       "      <td>0.0</td>\n",
       "      <td>0.0</td>\n",
       "      <td>0.0</td>\n",
       "      <td>0.0</td>\n",
       "      <td>0.0</td>\n",
       "      <td>0.0</td>\n",
       "      <td>0.0</td>\n",
       "      <td>0.0</td>\n",
       "    </tr>\n",
       "    <tr>\n",
       "      <th>1</th>\n",
       "      <td>1.0</td>\n",
       "      <td>0.0</td>\n",
       "      <td>0.0</td>\n",
       "      <td>1.0</td>\n",
       "      <td>0.0</td>\n",
       "      <td>0.0</td>\n",
       "      <td>0.0</td>\n",
       "      <td>1.0</td>\n",
       "      <td>1.0</td>\n",
       "      <td>0.0</td>\n",
       "      <td>...</td>\n",
       "      <td>0.0</td>\n",
       "      <td>0.0</td>\n",
       "      <td>0.0</td>\n",
       "      <td>0.0</td>\n",
       "      <td>0.0</td>\n",
       "      <td>0.0</td>\n",
       "      <td>0.0</td>\n",
       "      <td>0.0</td>\n",
       "      <td>0.0</td>\n",
       "      <td>0.0</td>\n",
       "    </tr>\n",
       "    <tr>\n",
       "      <th>2</th>\n",
       "      <td>0.0</td>\n",
       "      <td>1.0</td>\n",
       "      <td>0.0</td>\n",
       "      <td>1.0</td>\n",
       "      <td>0.0</td>\n",
       "      <td>0.0</td>\n",
       "      <td>0.0</td>\n",
       "      <td>1.0</td>\n",
       "      <td>0.0</td>\n",
       "      <td>1.0</td>\n",
       "      <td>...</td>\n",
       "      <td>0.0</td>\n",
       "      <td>0.0</td>\n",
       "      <td>0.0</td>\n",
       "      <td>0.0</td>\n",
       "      <td>0.0</td>\n",
       "      <td>0.0</td>\n",
       "      <td>0.0</td>\n",
       "      <td>0.0</td>\n",
       "      <td>0.0</td>\n",
       "      <td>0.0</td>\n",
       "    </tr>\n",
       "    <tr>\n",
       "      <th>3</th>\n",
       "      <td>0.0</td>\n",
       "      <td>1.0</td>\n",
       "      <td>0.0</td>\n",
       "      <td>1.0</td>\n",
       "      <td>0.0</td>\n",
       "      <td>0.0</td>\n",
       "      <td>0.0</td>\n",
       "      <td>1.0</td>\n",
       "      <td>1.0</td>\n",
       "      <td>0.0</td>\n",
       "      <td>...</td>\n",
       "      <td>0.0</td>\n",
       "      <td>0.0</td>\n",
       "      <td>0.0</td>\n",
       "      <td>0.0</td>\n",
       "      <td>0.0</td>\n",
       "      <td>0.0</td>\n",
       "      <td>0.0</td>\n",
       "      <td>0.0</td>\n",
       "      <td>0.0</td>\n",
       "      <td>0.0</td>\n",
       "    </tr>\n",
       "    <tr>\n",
       "      <th>4</th>\n",
       "      <td>1.0</td>\n",
       "      <td>0.0</td>\n",
       "      <td>0.0</td>\n",
       "      <td>1.0</td>\n",
       "      <td>0.0</td>\n",
       "      <td>0.0</td>\n",
       "      <td>0.0</td>\n",
       "      <td>1.0</td>\n",
       "      <td>1.0</td>\n",
       "      <td>0.0</td>\n",
       "      <td>...</td>\n",
       "      <td>0.0</td>\n",
       "      <td>0.0</td>\n",
       "      <td>0.0</td>\n",
       "      <td>0.0</td>\n",
       "      <td>0.0</td>\n",
       "      <td>0.0</td>\n",
       "      <td>0.0</td>\n",
       "      <td>0.0</td>\n",
       "      <td>0.0</td>\n",
       "      <td>0.0</td>\n",
       "    </tr>\n",
       "  </tbody>\n",
       "</table>\n",
       "<p>5 rows × 53 columns</p>\n",
       "</div>"
      ],
      "text/plain": [
       "     0    1    2    3    4    5    6    7    8    9  ...  \\\n",
       "0  0.0  1.0  0.0  1.0  0.0  0.0  0.0  1.0  1.0  0.0  ...   \n",
       "1  1.0  0.0  0.0  1.0  0.0  0.0  0.0  1.0  1.0  0.0  ...   \n",
       "2  0.0  1.0  0.0  1.0  0.0  0.0  0.0  1.0  0.0  1.0  ...   \n",
       "3  0.0  1.0  0.0  1.0  0.0  0.0  0.0  1.0  1.0  0.0  ...   \n",
       "4  1.0  0.0  0.0  1.0  0.0  0.0  0.0  1.0  1.0  0.0  ...   \n",
       "\n",
       "   RoomService_was_missing  FoodCourt_was_missing  ShoppingMall_was_missing  \\\n",
       "0                      0.0                    0.0                       0.0   \n",
       "1                      0.0                    0.0                       0.0   \n",
       "2                      0.0                    0.0                       0.0   \n",
       "3                      0.0                    0.0                       0.0   \n",
       "4                      0.0                    0.0                       0.0   \n",
       "\n",
       "   Spa_was_missing  VRDeck_was_missing  Name_was_missing  \\\n",
       "0              0.0                 0.0               0.0   \n",
       "1              0.0                 0.0               0.0   \n",
       "2              0.0                 0.0               0.0   \n",
       "3              0.0                 0.0               0.0   \n",
       "4              0.0                 0.0               0.0   \n",
       "\n",
       "   FamilyName_was_missing  CabinDeck_was_missing  CabinNum_was_missing  \\\n",
       "0                     0.0                    0.0                   0.0   \n",
       "1                     0.0                    0.0                   0.0   \n",
       "2                     0.0                    0.0                   0.0   \n",
       "3                     0.0                    0.0                   0.0   \n",
       "4                     0.0                    0.0                   0.0   \n",
       "\n",
       "   CabinSide_was_missing  \n",
       "0                    0.0  \n",
       "1                    0.0  \n",
       "2                    0.0  \n",
       "3                    0.0  \n",
       "4                    0.0  \n",
       "\n",
       "[5 rows x 53 columns]"
      ]
     },
     "execution_count": 13,
     "metadata": {},
     "output_type": "execute_result"
    }
   ],
   "source": [
    "print(f'New X shape : {X.shape}')\n",
    "X.head()"
   ]
  },
  {
   "cell_type": "markdown",
   "id": "7dbfd59d-6afe-441f-a322-629003809a23",
   "metadata": {},
   "source": [
    "# Models selection"
   ]
  },
  {
   "cell_type": "markdown",
   "id": "887e510b-3bd4-4c47-b145-7137bed50613",
   "metadata": {},
   "source": [
    "A benchmark of the 2 models below will be made and the best one will be used to do the final prediction:\n",
    "- CatBoost\n",
    "- PyTorch custom MLP\n",
    "\n",
    "I have decided to use catboost because of his simplicity, ease of us and performance. I also wanted to compare 2 differents machine learning algorithm architecture, which is why I will also implement a pytorch binary MLP classifier.\n",
    "The one which perform the best will be used for the final prediction task."
   ]
  },
  {
   "cell_type": "markdown",
   "id": "2da157df-1f45-4723-a1ae-508fdbcf8f95",
   "metadata": {},
   "source": [
    "## CatBoost"
   ]
  },
  {
   "cell_type": "markdown",
   "id": "ff998ebc-90d4-4898-9bca-d4ded7206fdf",
   "metadata": {},
   "source": [
    "### Training on splitted dataset"
   ]
  },
  {
   "cell_type": "markdown",
   "id": "1f4adc4b-e204-4b07-a2ee-3cb1b34c0168",
   "metadata": {},
   "source": [
    "First, we can train a model with early stopping on a splitted dataset to know what is approximately the best number of iteration for a classifier to be trained with."
   ]
  },
  {
   "cell_type": "code",
   "execution_count": 14,
   "id": "f863e5c9-6825-4388-a683-57e69bc188a8",
   "metadata": {},
   "outputs": [],
   "source": [
    "X_train, X_val, y_train, y_val = train_test_split(X, y, test_size=0.3)"
   ]
  },
  {
   "cell_type": "code",
   "execution_count": 15,
   "id": "a83339bb-2eeb-412e-965a-8711f49ebcc2",
   "metadata": {},
   "outputs": [],
   "source": [
    "params = {\n",
    "    'iterations': 1000, # large number as their will be earlystopping\n",
    "    'eval_metric': metrics.Accuracy(),\n",
    "    'logging_level': 'Silent',\n",
    "    'use_best_model': True, # important to retrieve the best iteration value\n",
    "    'od_type': 'Iter',\n",
    "    'od_wait': 50, # stop training after 200 iterations without improving the accuracy\n",
    "}"
   ]
  },
  {
   "cell_type": "code",
   "execution_count": 16,
   "id": "0f6bb428-f934-42ba-bf96-721d2e8df08b",
   "metadata": {},
   "outputs": [
    {
     "data": {
      "application/vnd.jupyter.widget-view+json": {
       "model_id": "85382413b3fb48f8999c97941434ad7a",
       "version_major": 2,
       "version_minor": 0
      },
      "text/plain": [
       "MetricVisualizer(layout=Layout(align_self='stretch', height='500px'))"
      ]
     },
     "metadata": {},
     "output_type": "display_data"
    },
    {
     "data": {
      "text/plain": [
       "<catboost.core.CatBoostClassifier at 0x75a9e6822ef0>"
      ]
     },
     "execution_count": 16,
     "metadata": {},
     "output_type": "execute_result"
    }
   ],
   "source": [
    "model = CatBoostClassifier(**params)\n",
    "model.fit(X=X_train, y=y_train, eval_set=(X_val, y_val), plot=True)"
   ]
  },
  {
   "cell_type": "code",
   "execution_count": 17,
   "id": "bed52be8-e02d-4d5b-95e9-fd04e73d750f",
   "metadata": {},
   "outputs": [
    {
     "name": "stdout",
     "output_type": "stream",
     "text": [
      "model tree count: 259\n",
      "model validation accuracy: 0.8186349693251533\n"
     ]
    }
   ],
   "source": [
    "print(f'model tree count: {model.tree_count_}')\n",
    "print(f'model validation accuracy: {accuracy_score(y_val, model.predict(X_val))}')"
   ]
  },
  {
   "cell_type": "markdown",
   "id": "4cc8cdc8-c985-4e7d-87de-6c91a9fdd8a2",
   "metadata": {},
   "source": [
    "### Training on the entire dataset"
   ]
  },
  {
   "cell_type": "markdown",
   "id": "f8f6f987-c975-4753-bd47-cbe1e4bb63ea",
   "metadata": {},
   "source": [
    "Now that we know that ~200 seems to be a good number of iterations for our classifier to generalize well, we can train it with the entire dataset."
   ]
  },
  {
   "cell_type": "code",
   "execution_count": 18,
   "id": "dc230c75-1328-4bb1-92ca-725a7c58a7c2",
   "metadata": {},
   "outputs": [],
   "source": [
    "final_params = {\n",
    "    'iterations': 200,\n",
    "    'eval_metric': metrics.Accuracy(),\n",
    "    'logging_level': 'Silent',\n",
    "}"
   ]
  },
  {
   "cell_type": "code",
   "execution_count": 19,
   "id": "d717a5b8-3f5d-40e6-89ea-48422e3b2564",
   "metadata": {},
   "outputs": [
    {
     "data": {
      "text/plain": [
       "<catboost.core.CatBoostClassifier at 0x75a9e62b6380>"
      ]
     },
     "execution_count": 19,
     "metadata": {},
     "output_type": "execute_result"
    }
   ],
   "source": [
    "model = CatBoostClassifier(**final_params)\n",
    "model.fit(X=X, y=y)"
   ]
  },
  {
   "cell_type": "markdown",
   "id": "fd434d8f-f1ab-4a7f-aa94-42e6c4bbf3f1",
   "metadata": {},
   "source": [
    "### Final prediction and accuracy"
   ]
  },
  {
   "cell_type": "code",
   "execution_count": 20,
   "id": "5b21a25c-e496-43f2-a8d3-dd33916dc1e4",
   "metadata": {},
   "outputs": [],
   "source": [
    "y_test = model.predict(X_test)"
   ]
  },
  {
   "cell_type": "code",
   "execution_count": 21,
   "id": "f100bf7a-fc59-4c97-affa-5de27960cdb5",
   "metadata": {},
   "outputs": [],
   "source": [
    "submission_df = pd.read_csv('sample_submission.csv', index_col='PassengerId')\n",
    "submission_df['Transported'] = y_test > 0.5\n",
    "submission_df.to_csv('catboost_submission.csv')"
   ]
  },
  {
   "cell_type": "code",
   "execution_count": 22,
   "id": "8ed559e8-f45e-4e57-aa5a-6f80fef1c9ed",
   "metadata": {},
   "outputs": [
    {
     "data": {
      "text/html": [
       "<div>\n",
       "<style scoped>\n",
       "    .dataframe tbody tr th:only-of-type {\n",
       "        vertical-align: middle;\n",
       "    }\n",
       "\n",
       "    .dataframe tbody tr th {\n",
       "        vertical-align: top;\n",
       "    }\n",
       "\n",
       "    .dataframe thead th {\n",
       "        text-align: right;\n",
       "    }\n",
       "</style>\n",
       "<table border=\"1\" class=\"dataframe\">\n",
       "  <thead>\n",
       "    <tr style=\"text-align: right;\">\n",
       "      <th></th>\n",
       "      <th>Transported</th>\n",
       "    </tr>\n",
       "    <tr>\n",
       "      <th>PassengerId</th>\n",
       "      <th></th>\n",
       "    </tr>\n",
       "  </thead>\n",
       "  <tbody>\n",
       "    <tr>\n",
       "      <th>0013_01</th>\n",
       "      <td>True</td>\n",
       "    </tr>\n",
       "    <tr>\n",
       "      <th>0018_01</th>\n",
       "      <td>False</td>\n",
       "    </tr>\n",
       "    <tr>\n",
       "      <th>0019_01</th>\n",
       "      <td>True</td>\n",
       "    </tr>\n",
       "    <tr>\n",
       "      <th>0021_01</th>\n",
       "      <td>True</td>\n",
       "    </tr>\n",
       "    <tr>\n",
       "      <th>0023_01</th>\n",
       "      <td>True</td>\n",
       "    </tr>\n",
       "  </tbody>\n",
       "</table>\n",
       "</div>"
      ],
      "text/plain": [
       "             Transported\n",
       "PassengerId             \n",
       "0013_01             True\n",
       "0018_01            False\n",
       "0019_01             True\n",
       "0021_01             True\n",
       "0023_01             True"
      ]
     },
     "execution_count": 22,
     "metadata": {},
     "output_type": "execute_result"
    }
   ],
   "source": [
    "submission_df.head()"
   ]
  },
  {
   "attachments": {},
   "cell_type": "markdown",
   "id": "c7378e7a-3647-4697-9481-a968ba42155a",
   "metadata": {},
   "source": [
    "Here is the final accuracy of the catboost model.\n",
    "![catboost accuracy](./catboost_accuracy.png)"
   ]
  },
  {
   "cell_type": "markdown",
   "id": "76b9b7f4-8156-47b5-8bea-6c98019aba8a",
   "metadata": {},
   "source": [
    "## MLP"
   ]
  },
  {
   "cell_type": "markdown",
   "id": "a06deb9a-fe83-40db-9819-648829c5cd42",
   "metadata": {},
   "source": [
    "The second machine learning architecture that will be used to make prediction will be a multi layer perceptron with classical strategies to prevent overfitting such as dropout, data normalization and early stopping."
   ]
  },
  {
   "cell_type": "markdown",
   "id": "806391ee-ac7f-43a1-b80d-629d094e7086",
   "metadata": {},
   "source": [
    "This time, a cross validation approach will be implemented."
   ]
  },
  {
   "cell_type": "markdown",
   "id": "042b55de-9872-44f0-9b21-a86e559995f8",
   "metadata": {},
   "source": [
    "### Dataset & Datalaoder"
   ]
  },
  {
   "cell_type": "markdown",
   "id": "d8b97787-b1db-454e-9a6a-284fb630c74d",
   "metadata": {},
   "source": [
    "First, we need to convert the data into a torch dataset."
   ]
  },
  {
   "cell_type": "code",
   "execution_count": 14,
   "id": "6982f3c1-89be-4579-8f61-1e490ce32f89",
   "metadata": {},
   "outputs": [],
   "source": [
    "t_X, t_y = torch.tensor(normalize(X, norm='l1'), dtype=torch.float), torch.tensor(y.values, dtype=torch.float).reshape(-1, 1)\n",
    "torch_dataset = TensorDataset(t_X, t_y)"
   ]
  },
  {
   "cell_type": "markdown",
   "id": "93fbee7c-c051-4f2e-a0c1-e07d711cd81f",
   "metadata": {},
   "source": [
    "### Early stopping and training implementation"
   ]
  },
  {
   "cell_type": "markdown",
   "id": "6dc6705a-b3bd-42b2-8974-82def3da489b",
   "metadata": {},
   "source": [
    "A cross validation training will be used with 5 folds and an early stop."
   ]
  },
  {
   "cell_type": "code",
   "execution_count": 15,
   "id": "d18ba29c-d6cb-44d8-a375-9f7fb669142b",
   "metadata": {},
   "outputs": [],
   "source": [
    "def get_model():\n",
    "    return nn.Sequential(\n",
    "        nn.LazyLinear(128),\n",
    "        nn.ReLU(),\n",
    "        nn.Dropout(0.35),\n",
    "        nn.LazyLinear(64),\n",
    "        nn.ReLU(),\n",
    "        nn.Dropout(0.35),\n",
    "        nn.LazyLinear(32),\n",
    "        nn.ReLU(),\n",
    "        nn.LazyLinear(1),\n",
    "        nn.Sigmoid()\n",
    "    )"
   ]
  },
  {
   "cell_type": "markdown",
   "id": "31c9d670-824a-4d58-993e-c78f7db4d2ea",
   "metadata": {},
   "source": [
    "The early stop will be implemented with OOP in mind :"
   ]
  },
  {
   "cell_type": "code",
   "execution_count": 16,
   "id": "8004665c-a4f1-4bb5-a5f9-a368f784a8fa",
   "metadata": {},
   "outputs": [],
   "source": [
    "class EarlyStopper:\n",
    "    def __init__(self, patience, min_delta, path):\n",
    "        self.patience = patience\n",
    "        self.min_delta = min_delta\n",
    "        self.counter = 0\n",
    "        self.min_loss = float('inf')\n",
    "        self.path = path\n",
    "\n",
    "    def checkpoint(self, model):\n",
    "        model.to(\"cpu\")\n",
    "        torch.save(model.state_dict(), self.path)\n",
    "\n",
    "    def __call__(self, loss, model):\n",
    "        if loss < self.min_loss:\n",
    "            self.min_loss = loss\n",
    "            self.checkpoint(model)\n",
    "            self.counter = 0\n",
    "        elif loss > (self.min_loss + self.min_delta):\n",
    "            self.counter += 1\n",
    "            if self.counter >= self.patience:\n",
    "                return True\n",
    "        return False"
   ]
  },
  {
   "cell_type": "code",
   "execution_count": 17,
   "id": "0e898a5d-03b0-4db6-b1d1-09b2a91f4dd6",
   "metadata": {},
   "outputs": [],
   "source": [
    "def train_one_epoch(model, criterion, optimizer, loader):\n",
    "    device = \"cuda\" if torch.cuda.is_available() else \"cpu\"\n",
    "    model.to(device)\n",
    "    model.train()\n",
    "    running_loss = 0.0\n",
    "    \n",
    "    for inputs, labels in loader:\n",
    "        inputs, labels = inputs.to(device), labels.to(device)\n",
    "        \n",
    "        optimizer.zero_grad()\n",
    "        \n",
    "        outputs = model(inputs)\n",
    "        loss = criterion(outputs, labels)\n",
    "        \n",
    "        loss.backward()\n",
    "        optimizer.step()\n",
    "\n",
    "        running_loss += loss.item()\n",
    "\n",
    "    return running_loss / len(loader)"
   ]
  },
  {
   "cell_type": "code",
   "execution_count": 18,
   "id": "6d61c027-8602-4c16-874f-263abaf2fd7c",
   "metadata": {},
   "outputs": [],
   "source": [
    "def validate_one_epoch(model, criterion, loader):\n",
    "    device = \"cuda\" if torch.cuda.is_available() else \"cpu\"\n",
    "    model.to(device)\n",
    "    model.eval()\n",
    "    running_loss = 0.0\n",
    "\n",
    "    with torch.no_grad():\n",
    "        for inputs, labels in loader:\n",
    "            inputs, labels = inputs.to(device), labels.to(device)\n",
    "            \n",
    "            outputs = model(inputs)\n",
    "            loss = criterion(outputs, labels)\n",
    "            \n",
    "            running_loss += loss.item()\n",
    "\n",
    "    return running_loss / len(loader)"
   ]
  },
  {
   "cell_type": "code",
   "execution_count": 19,
   "id": "884d0cb4-563e-4cf8-845c-bb4a4b569ed2",
   "metadata": {},
   "outputs": [],
   "source": [
    "def train_model(model, criterion, optimizer, train_loader, val_loader, epochs=1, patience=0, min_delta=0, checkpoint_path='./best_weights.pt'):\n",
    "    es = EarlyStopper(patience, min_delta, checkpoint_path)\n",
    "    \n",
    "    validation_loss = []\n",
    "    training_loss = []\n",
    "\n",
    "    for e in range(epochs):\n",
    "        epoch_training_loss = train_one_epoch(model, criterion, optimizer, train_loader)\n",
    "        training_loss.append(epoch_training_loss)\n",
    "        \n",
    "        # validation \n",
    "        with torch.no_grad(): \n",
    "           epoch_validate_loss = validate_one_epoch(model, criterion, val_loader)\n",
    "           validation_loss.append(epoch_validate_loss)\n",
    "        \n",
    "        # early stopping\n",
    "        if es(epoch_validate_loss, model):\n",
    "            print(f\"Early stopping at epoch {e}\")\n",
    "            break\n",
    "\n",
    "    return training_loss, validation_loss"
   ]
  },
  {
   "cell_type": "markdown",
   "id": "b7a83bfd-53dc-4f2b-bd2a-545785f0e332",
   "metadata": {},
   "source": [
    "### Cross validation training"
   ]
  },
  {
   "cell_type": "code",
   "execution_count": 20,
   "id": "2b527a41-6f0a-4f80-9f0c-eedd02fc7a17",
   "metadata": {},
   "outputs": [],
   "source": [
    "kfold = KFold(n_splits=5, shuffle=True)"
   ]
  },
  {
   "cell_type": "code",
   "execution_count": 22,
   "id": "2f5ac548-c3ca-4f74-8abb-33a3e98dbe38",
   "metadata": {},
   "outputs": [
    {
     "name": "stdout",
     "output_type": "stream",
     "text": [
      "###### FOLD 0 ######\n",
      "Early stopping at epoch 209\n",
      "###### FOLD 1 ######\n",
      "Early stopping at epoch 276\n",
      "###### FOLD 2 ######\n",
      "Early stopping at epoch 233\n",
      "###### FOLD 3 ######\n",
      "Early stopping at epoch 133\n",
      "###### FOLD 4 ######\n",
      "Early stopping at epoch 200\n"
     ]
    },
    {
     "data": {
      "image/png": "[encoded data removed]",
      "text/plain": [
       "<Figure size 700x300 with 1 Axes>"
      ]
     },
     "metadata": {},
     "output_type": "display_data"
    },
    {
     "data": {
      "image/png": "[encoded data removed]",
      "text/plain": [
       "<Figure size 700x300 with 1 Axes>"
      ]
     },
     "metadata": {},
     "output_type": "display_data"
    },
    {
     "data": {
      "image/png": "[encoded data removed]",
      "text/plain": [
       "<Figure size 700x300 with 1 Axes>"
      ]
     },
     "metadata": {},
     "output_type": "display_data"
    },
    {
     "data": {
      "image/png": "[encoded data removed]",
      "text/plain": [
       "<Figure size 700x300 with 1 Axes>"
      ]
     },
     "metadata": {},
     "output_type": "display_data"
    },
    {
     "data": {
      "image/png": "[encoded data removed]",
      "text/plain": [
       "<Figure size 700x300 with 1 Axes>"
      ]
     },
     "metadata": {},
     "output_type": "display_data"
    }
   ],
   "source": [
    "for fold, (train_ids, val_ids) in enumerate(kfold.split(torch_dataset)):\n",
    "    print(f'###### FOLD {fold} ######')\n",
    "    # Sample elements randomly from a given list of ids, no replacement.\n",
    "    train_subsampler = SubsetRandomSampler(train_ids)\n",
    "    val_subsampler = SubsetRandomSampler(val_ids)\n",
    "\n",
    "    # Define data loaders for training and testing data specific to this fold\n",
    "    train_loader = DataLoader(torch_dataset, batch_size=64, num_workers=os.cpu_count(), sampler=train_subsampler)\n",
    "    val_loader = DataLoader(torch_dataset, batch_size=64, num_workers=os.cpu_count(), sampler=val_subsampler)\n",
    "\n",
    "    model = get_model()\n",
    "    optim = Adam(model.parameters())\n",
    "    criterion = nn.BCELoss()\n",
    "\n",
    "    training_loss, validation_loss = train_model(\n",
    "        model, \n",
    "        criterion, \n",
    "        optim, \n",
    "        train_loader, \n",
    "        val_loader, \n",
    "        epochs=500, # very large number as we have implemented an early stop \n",
    "        patience=5, \n",
    "        min_delta=0.02, \n",
    "        checkpoint_path=f'./models_weights/model{fold}_weights.pt'\n",
    "    )\n",
    "\n",
    "    fig, ax = plt.subplots()\n",
    "    fig.set_size_inches(7, 3)\n",
    "    ax.plot(training_loss, label='Train Loss')\n",
    "    ax.plot(validation_loss, label='Val Loss')\n",
    "    ax.axvline(validation_loss.index(min(validation_loss)), color='grey', linewidth=1)\n",
    "    ax.set_ylabel('Loss')\n",
    "    ax.set_xlabel('Epoch')\n",
    "    ax.set_title('Loss')\n",
    "    ax.legend()"
   ]
  },
  {
   "cell_type": "markdown",
   "id": "9709acf6-848b-4529-b6b2-cc4b03daf420",
   "metadata": {},
   "source": [
    "### Final prediction and accuracy"
   ]
  },
  {
   "cell_type": "code",
   "execution_count": 29,
   "id": "e9886486-497f-4c00-8667-03ef2ebfb484",
   "metadata": {},
   "outputs": [],
   "source": [
    "t_X_test = torch.tensor(normalize(X_test, norm='l1'), dtype=torch.float)\n",
    "torch_dataset_test = TensorDataset(t_X_test)\n",
    "test_loader = DataLoader(torch_dataset_test, batch_size=64, num_workers=os.cpu_count(), shuffle=False)"
   ]
  },
  {
   "cell_type": "code",
   "execution_count": 40,
   "id": "f6681daf-9d51-4ca5-9d60-e40eae0da886",
   "metadata": {},
   "outputs": [],
   "source": [
    "device = \"cuda\" if torch.cuda.is_available() else \"cpu\"\n",
    "preds = []\n",
    "\n",
    "# Make predictions with each model and average them\n",
    "with torch.no_grad():\n",
    "    for inputs in test_loader:\n",
    "        inputs = inputs[0].to(device)\n",
    "        mean_logps = []\n",
    "        \n",
    "        for i in range(5):\n",
    "            model = get_model()\n",
    "            model.load_state_dict(torch.load(f'./models_weights/model{i}_weights.pt'))\n",
    "            model.to(device)\n",
    "            model.eval()\n",
    "            outputs = model(inputs)\n",
    "            mean_logps.append(outputs)\n",
    "            # free GPU memory\n",
    "        \n",
    "        mean_logp = torch.mean(torch.stack(mean_logps), dim=0)\n",
    "        preds.extend((mean_logp >= 0.5).long().squeeze().tolist())"
   ]
  },
  {
   "cell_type": "code",
   "execution_count": 46,
   "id": "d64718cb-cf31-4366-9900-d9269060c402",
   "metadata": {},
   "outputs": [],
   "source": [
    "submission_df = pd.read_csv('sample_submission.csv', index_col='PassengerId')\n",
    "submission_df['Transported'] = np.array(preds) > 0.5\n",
    "submission_df.to_csv('MLP_submission.csv')"
   ]
  },
  {
   "cell_type": "code",
   "execution_count": 47,
   "id": "b5ca77d3-4cfc-4226-85ef-8021eb6086c4",
   "metadata": {},
   "outputs": [
    {
     "data": {
      "text/html": [
       "<div>\n",
       "<style scoped>\n",
       "    .dataframe tbody tr th:only-of-type {\n",
       "        vertical-align: middle;\n",
       "    }\n",
       "\n",
       "    .dataframe tbody tr th {\n",
       "        vertical-align: top;\n",
       "    }\n",
       "\n",
       "    .dataframe thead th {\n",
       "        text-align: right;\n",
       "    }\n",
       "</style>\n",
       "<table border=\"1\" class=\"dataframe\">\n",
       "  <thead>\n",
       "    <tr style=\"text-align: right;\">\n",
       "      <th></th>\n",
       "      <th>Transported</th>\n",
       "    </tr>\n",
       "    <tr>\n",
       "      <th>PassengerId</th>\n",
       "      <th></th>\n",
       "    </tr>\n",
       "  </thead>\n",
       "  <tbody>\n",
       "    <tr>\n",
       "      <th>0013_01</th>\n",
       "      <td>False</td>\n",
       "    </tr>\n",
       "    <tr>\n",
       "      <th>0018_01</th>\n",
       "      <td>False</td>\n",
       "    </tr>\n",
       "    <tr>\n",
       "      <th>0019_01</th>\n",
       "      <td>True</td>\n",
       "    </tr>\n",
       "    <tr>\n",
       "      <th>0021_01</th>\n",
       "      <td>True</td>\n",
       "    </tr>\n",
       "    <tr>\n",
       "      <th>0023_01</th>\n",
       "      <td>True</td>\n",
       "    </tr>\n",
       "  </tbody>\n",
       "</table>\n",
       "</div>"
      ],
      "text/plain": [
       "             Transported\n",
       "PassengerId             \n",
       "0013_01            False\n",
       "0018_01            False\n",
       "0019_01             True\n",
       "0021_01             True\n",
       "0023_01             True"
      ]
     },
     "execution_count": 47,
     "metadata": {},
     "output_type": "execute_result"
    }
   ],
   "source": [
    "submission_df.head()"
   ]
  },
  {
   "cell_type": "markdown",
   "id": "c928210f-b096-4336-a914-558c48139ecf",
   "metadata": {},
   "source": [
    "Here is the final score for our cross validation MLP model : \n",
    "![MLP accuracy](./mlp_score.png)"
   ]
  },
  {
   "cell_type": "markdown",
   "id": "372d2761-41b9-41d8-a27e-54607b25944e",
   "metadata": {},
   "source": [
    "Despite my best effort, I could not manage to beat the catboost classifier. Given that the catboost classifier is **way** faster and more performant than the MLP model, I will privilege the implementation of a catboost or xgboost model for this type of usecase."
   ]
  },
  {
   "cell_type": "code",
   "execution_count": null,
   "id": "2d5a03ec-70ea-4f54-82cd-aca5dd8c968e",
   "metadata": {},
   "outputs": [],
   "source": []
  }
 ],
 "metadata": {
  "kernelspec": {
   "display_name": "Python 3 (ipykernel)",
   "language": "python",
   "name": "python3"
  },
  "language_info": {
   "codemirror_mode": {
    "name": "ipython",
    "version": 3
   },
   "file_extension": ".py",
   "mimetype": "text/x-python",
   "name": "python",
   "nbconvert_exporter": "python",
   "pygments_lexer": "ipython3",
   "version": "3.10.10"
  }
 },
 "nbformat": 4,
 "nbformat_minor": 5
}
